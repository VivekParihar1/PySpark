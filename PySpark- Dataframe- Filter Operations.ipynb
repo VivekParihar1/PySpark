{
 "cells": [
  {
   "cell_type": "code",
   "execution_count": 1,
   "id": "3de25bc6",
   "metadata": {},
   "outputs": [],
   "source": [
    "from pyspark.sql import SparkSession\n",
    "spark= SparkSession.builder.appName('Filter_Practice').getOrCreate()"
   ]
  },
  {
   "cell_type": "code",
   "execution_count": 2,
   "id": "254ae3fa",
   "metadata": {},
   "outputs": [],
   "source": [
    "## load the datasets\n",
    "\n",
    "df_pyspark=spark.read.csv('test4.csv', header=True, inferSchema=True)"
   ]
  },
  {
   "cell_type": "code",
   "execution_count": 3,
   "id": "3abe9532",
   "metadata": {},
   "outputs": [
    {
     "name": "stdout",
     "output_type": "stream",
     "text": [
      "+--------+---+----------+------+\n",
      "|    Name|age|Experience|Salary|\n",
      "+--------+---+----------+------+\n",
      "|   vivek| 25|         3| 50000|\n",
      "|   Aadit| 26|         4| 70000|\n",
      "|Abhishek| 27|         6| 60000|\n",
      "|   Harsh| 24|         2| 25000|\n",
      "|   Vikas| 25|         3| 45000|\n",
      "|   Fahad| 26|         4| 65000|\n",
      "+--------+---+----------+------+\n",
      "\n"
     ]
    }
   ],
   "source": [
    "df_pyspark.show()"
   ]
  },
  {
   "cell_type": "markdown",
   "id": "9f3ff064",
   "metadata": {},
   "source": [
    "## filter operation"
   ]
  },
  {
   "cell_type": "code",
   "execution_count": 4,
   "id": "0ed3a471",
   "metadata": {},
   "outputs": [
    {
     "name": "stdout",
     "output_type": "stream",
     "text": [
      "+-----+---+----------+------+\n",
      "| Name|age|Experience|Salary|\n",
      "+-----+---+----------+------+\n",
      "|Harsh| 24|         2| 25000|\n",
      "|Vikas| 25|         3| 45000|\n",
      "+-----+---+----------+------+\n",
      "\n"
     ]
    }
   ],
   "source": [
    "### salary of people less than or equal to 45000\n",
    "df_pyspark.filter(\"Salary<=45000\").show()"
   ]
  },
  {
   "cell_type": "code",
   "execution_count": 7,
   "id": "6b25f941",
   "metadata": {},
   "outputs": [
    {
     "name": "stdout",
     "output_type": "stream",
     "text": [
      "+-----+---+----------+------+\n",
      "| Name|age|Experience|Salary|\n",
      "+-----+---+----------+------+\n",
      "|Harsh| 24|         2| 25000|\n",
      "|Vikas| 25|         3| 45000|\n",
      "+-----+---+----------+------+\n",
      "\n"
     ]
    }
   ],
   "source": [
    "df_pyspark.filter(df_pyspark['Salary']<=45000).show()"
   ]
  },
  {
   "cell_type": "code",
   "execution_count": 6,
   "id": "402ab85c",
   "metadata": {},
   "outputs": [
    {
     "name": "stdout",
     "output_type": "stream",
     "text": [
      "+-----+---+\n",
      "| Name|age|\n",
      "+-----+---+\n",
      "|Harsh| 24|\n",
      "|Vikas| 25|\n",
      "+-----+---+\n",
      "\n"
     ]
    }
   ],
   "source": [
    "df_pyspark.filter(\"Salary<=45000\").select(['Name','age']).show()"
   ]
  },
  {
   "cell_type": "code",
   "execution_count": 9,
   "id": "62140b91",
   "metadata": {},
   "outputs": [
    {
     "name": "stdout",
     "output_type": "stream",
     "text": [
      "+-----+---+----------+------+\n",
      "| Name|age|Experience|Salary|\n",
      "+-----+---+----------+------+\n",
      "|Vikas| 25|         3| 45000|\n",
      "+-----+---+----------+------+\n",
      "\n"
     ]
    }
   ],
   "source": [
    "df_pyspark.filter((df_pyspark['Salary']<=45000) & (df_pyspark['Salary']>30000)).show()"
   ]
  },
  {
   "cell_type": "code",
   "execution_count": 12,
   "id": "4d67f2d0",
   "metadata": {},
   "outputs": [
    {
     "name": "stdout",
     "output_type": "stream",
     "text": [
      "+--------+---+----------+------+\n",
      "|    Name|age|Experience|Salary|\n",
      "+--------+---+----------+------+\n",
      "|   vivek| 25|         3| 50000|\n",
      "|   Aadit| 26|         4| 70000|\n",
      "|Abhishek| 27|         6| 60000|\n",
      "|   Fahad| 26|         4| 65000|\n",
      "+--------+---+----------+------+\n",
      "\n"
     ]
    }
   ],
   "source": [
    "##inverse filter\n",
    "df_pyspark.filter(~(df_pyspark['Salary']<=45000)).show()"
   ]
  },
  {
   "cell_type": "code",
   "execution_count": null,
   "id": "ce223b50",
   "metadata": {},
   "outputs": [],
   "source": []
  }
 ],
 "metadata": {
  "kernelspec": {
   "display_name": "Python 3 (ipykernel)",
   "language": "python",
   "name": "python3"
  },
  "language_info": {
   "codemirror_mode": {
    "name": "ipython",
    "version": 3
   },
   "file_extension": ".py",
   "mimetype": "text/x-python",
   "name": "python",
   "nbconvert_exporter": "python",
   "pygments_lexer": "ipython3",
   "version": "3.9.7"
  }
 },
 "nbformat": 4,
 "nbformat_minor": 5
}
