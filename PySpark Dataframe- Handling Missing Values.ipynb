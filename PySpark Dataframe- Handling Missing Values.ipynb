{
 "cells": [
  {
   "cell_type": "code",
   "execution_count": 5,
   "id": "b52ff1ca",
   "metadata": {},
   "outputs": [],
   "source": [
    "from pyspark.sql import SparkSession\n",
    "spark=SparkSession.builder.appName('Practise').getOrCreate()"
   ]
  },
  {
   "cell_type": "code",
   "execution_count": 23,
   "id": "e7bc2453",
   "metadata": {},
   "outputs": [],
   "source": [
    "df_pyspark=spark.read.csv('test3.csv', header=True, inferSchema=True)"
   ]
  },
  {
   "cell_type": "code",
   "execution_count": 24,
   "id": "13b9472a",
   "metadata": {},
   "outputs": [
    {
     "name": "stdout",
     "output_type": "stream",
     "text": [
      "+--------+----+----------+------+\n",
      "|    Name| age|Experience|Salary|\n",
      "+--------+----+----------+------+\n",
      "|   vivek|  25|         3| 50000|\n",
      "|   Aadit|  26|         4| 70000|\n",
      "|Abhishek|  27|         6| 60000|\n",
      "|   Harsh|  24|         2| 25000|\n",
      "|   Vikas|  25|         3| 45000|\n",
      "|   Fahad|  26|         4| 65000|\n",
      "|  Mahesh|null|      null| 40000|\n",
      "|    null|  34|        10| 38000|\n",
      "|    null|  36|      null|  null|\n",
      "+--------+----+----------+------+\n",
      "\n"
     ]
    }
   ],
   "source": [
    "df_pyspark.show()"
   ]
  },
  {
   "cell_type": "code",
   "execution_count": 10,
   "id": "ca4549a0",
   "metadata": {},
   "outputs": [
    {
     "name": "stdout",
     "output_type": "stream",
     "text": [
      "+--------+---+----------+------+\n",
      "|    Name|age|Experience|Salary|\n",
      "+--------+---+----------+------+\n",
      "|   vivek| 25|         3| 50000|\n",
      "|   Aadit| 26|         4| 70000|\n",
      "|Abhishek| 27|         6| 60000|\n",
      "|   Harsh| 24|         2| 25000|\n",
      "|   Vikas| 25|         3| 45000|\n",
      "|   Fahad| 26|         4| 65000|\n",
      "+--------+---+----------+------+\n",
      "\n"
     ]
    }
   ],
   "source": [
    "## drop the column\n",
    "df_pyspark.na.drop().show()  ## it will drop rows wherever null values is present"
   ]
  },
  {
   "cell_type": "code",
   "execution_count": 12,
   "id": "a2c91f97",
   "metadata": {},
   "outputs": [
    {
     "name": "stdout",
     "output_type": "stream",
     "text": [
      "+--------+---+----------+------+\n",
      "|    Name|age|Experience|Salary|\n",
      "+--------+---+----------+------+\n",
      "|   vivek| 25|         3| 50000|\n",
      "|   Aadit| 26|         4| 70000|\n",
      "|Abhishek| 27|         6| 60000|\n",
      "|   Harsh| 24|         2| 25000|\n",
      "|   Vikas| 25|         3| 45000|\n",
      "|   Fahad| 26|         4| 65000|\n",
      "+--------+---+----------+------+\n",
      "\n"
     ]
    }
   ],
   "source": [
    "## any=how\n",
    "df_pyspark.na.drop(how=\"any\").show() "
   ]
  },
  {
   "cell_type": "code",
   "execution_count": 15,
   "id": "910bb828",
   "metadata": {},
   "outputs": [
    {
     "name": "stdout",
     "output_type": "stream",
     "text": [
      "+--------+----+----------+------+\n",
      "|    Name| age|Experience|Salary|\n",
      "+--------+----+----------+------+\n",
      "|   vivek|  25|         3| 50000|\n",
      "|   Aadit|  26|         4| 70000|\n",
      "|Abhishek|  27|         6| 60000|\n",
      "|   Harsh|  24|         2| 25000|\n",
      "|   Vikas|  25|         3| 45000|\n",
      "|   Fahad|  26|         4| 65000|\n",
      "|  Mahesh|null|      null| 40000|\n",
      "|    null|  34|        10| 38000|\n",
      "+--------+----+----------+------+\n",
      "\n"
     ]
    }
   ],
   "source": [
    "## threshold-----> it will check wether atleast 2 non null values are present\n",
    "df_pyspark.na.drop(how=\"any\", thresh=2).show() "
   ]
  },
  {
   "cell_type": "code",
   "execution_count": 16,
   "id": "bf06a074",
   "metadata": {},
   "outputs": [
    {
     "name": "stdout",
     "output_type": "stream",
     "text": [
      "+--------+---+----------+------+\n",
      "|    Name|age|Experience|Salary|\n",
      "+--------+---+----------+------+\n",
      "|   vivek| 25|         3| 50000|\n",
      "|   Aadit| 26|         4| 70000|\n",
      "|Abhishek| 27|         6| 60000|\n",
      "|   Harsh| 24|         2| 25000|\n",
      "|   Vikas| 25|         3| 45000|\n",
      "|   Fahad| 26|         4| 65000|\n",
      "|    null| 34|        10| 38000|\n",
      "+--------+---+----------+------+\n",
      "\n"
     ]
    }
   ],
   "source": [
    "df_pyspark.na.drop(how=\"any\", thresh=3).show() "
   ]
  },
  {
   "cell_type": "code",
   "execution_count": 17,
   "id": "90a20ad3",
   "metadata": {},
   "outputs": [
    {
     "name": "stdout",
     "output_type": "stream",
     "text": [
      "+--------+---+----------+------+\n",
      "|    Name|age|Experience|Salary|\n",
      "+--------+---+----------+------+\n",
      "|   vivek| 25|         3| 50000|\n",
      "|   Aadit| 26|         4| 70000|\n",
      "|Abhishek| 27|         6| 60000|\n",
      "|   Harsh| 24|         2| 25000|\n",
      "|   Vikas| 25|         3| 45000|\n",
      "|   Fahad| 26|         4| 65000|\n",
      "|    null| 34|        10| 38000|\n",
      "+--------+---+----------+------+\n",
      "\n"
     ]
    }
   ],
   "source": [
    "## subset\n",
    "df_pyspark.na.drop(how=\"any\", subset=['Experience']).show() "
   ]
  },
  {
   "cell_type": "code",
   "execution_count": 18,
   "id": "f9c718f3",
   "metadata": {},
   "outputs": [
    {
     "name": "stdout",
     "output_type": "stream",
     "text": [
      "+--------+---+----------+------+\n",
      "|    Name|age|Experience|Salary|\n",
      "+--------+---+----------+------+\n",
      "|   vivek| 25|         3| 50000|\n",
      "|   Aadit| 26|         4| 70000|\n",
      "|Abhishek| 27|         6| 60000|\n",
      "|   Harsh| 24|         2| 25000|\n",
      "|   Vikas| 25|         3| 45000|\n",
      "|   Fahad| 26|         4| 65000|\n",
      "|    null| 34|        10| 38000|\n",
      "|    null| 36|      null|  null|\n",
      "+--------+---+----------+------+\n",
      "\n"
     ]
    }
   ],
   "source": [
    "df_pyspark.na.drop(how=\"any\", subset=['age']).show() "
   ]
  },
  {
   "cell_type": "code",
   "execution_count": 34,
   "id": "b2a8d260",
   "metadata": {},
   "outputs": [],
   "source": [
    "df_pyspark=spark.read.csv('test3.csv', header=True, inferSchema=False)"
   ]
  },
  {
   "cell_type": "code",
   "execution_count": 35,
   "id": "cd42c6de",
   "metadata": {},
   "outputs": [
    {
     "name": "stdout",
     "output_type": "stream",
     "text": [
      "+--------+--------------+--------------+------+\n",
      "|    Name|           age|    Experience|Salary|\n",
      "+--------+--------------+--------------+------+\n",
      "|   vivek|            25|             3| 50000|\n",
      "|   Aadit|            26|             4| 70000|\n",
      "|Abhishek|            27|             6| 60000|\n",
      "|   Harsh|            24|             2| 25000|\n",
      "|   Vikas|            25|             3| 45000|\n",
      "|   Fahad|            26|             4| 65000|\n",
      "|  Mahesh|Missing Values|Missing Values| 40000|\n",
      "|    null|            34|            10| 38000|\n",
      "|    null|            36|Missing Values|  null|\n",
      "+--------+--------------+--------------+------+\n",
      "\n"
     ]
    }
   ],
   "source": [
    "## filling the missing value\n",
    "df_pyspark.na.fill('Missing Values',['Experience','age']).show()"
   ]
  },
  {
   "cell_type": "code",
   "execution_count": 36,
   "id": "9464e1c9",
   "metadata": {},
   "outputs": [
    {
     "data": {
      "text/plain": [
       "DataFrame[Name: string, age: string, Experience: string, Salary: string]"
      ]
     },
     "execution_count": 36,
     "metadata": {},
     "output_type": "execute_result"
    }
   ],
   "source": [
    "df_pyspark"
   ]
  },
  {
   "cell_type": "code",
   "execution_count": 42,
   "id": "eda18424",
   "metadata": {},
   "outputs": [],
   "source": [
    "df_pyspark=spark.read.csv('test3.csv', header=True, inferSchema=True)"
   ]
  },
  {
   "cell_type": "code",
   "execution_count": 43,
   "id": "08672a96",
   "metadata": {},
   "outputs": [
    {
     "name": "stdout",
     "output_type": "stream",
     "text": [
      "+--------+---+----------+------+\n",
      "|    Name|age|Experience|Salary|\n",
      "+--------+---+----------+------+\n",
      "|   vivek| 25|         3| 50000|\n",
      "|   Aadit| 26|         4| 70000|\n",
      "|Abhishek| 27|         6| 60000|\n",
      "|   Harsh| 24|         2| 25000|\n",
      "|   Vikas| 25|         3| 45000|\n",
      "|   Fahad| 26|         4| 65000|\n",
      "|  Mahesh|  0|      null| 40000|\n",
      "|    null| 34|        10| 38000|\n",
      "|    null| 36|      null|  null|\n",
      "+--------+---+----------+------+\n",
      "\n"
     ]
    }
   ],
   "source": [
    "df_pyspark.na.fill({'age':0}).show()"
   ]
  },
  {
   "cell_type": "code",
   "execution_count": 44,
   "id": "1edf3ac4",
   "metadata": {},
   "outputs": [
    {
     "name": "stdout",
     "output_type": "stream",
     "text": [
      "+--------+----+----------+------+\n",
      "|    Name| age|Experience|Salary|\n",
      "+--------+----+----------+------+\n",
      "|   vivek|  25|         3| 50000|\n",
      "|   Aadit|  26|         4| 70000|\n",
      "|Abhishek|  27|         6| 60000|\n",
      "|   Harsh|  24|         2| 25000|\n",
      "|   Vikas|  25|         3| 45000|\n",
      "|   Fahad|  26|         4| 65000|\n",
      "|  Mahesh|null|      null| 40000|\n",
      "|    null|  34|        10| 38000|\n",
      "|    null|  36|      null|  null|\n",
      "+--------+----+----------+------+\n",
      "\n"
     ]
    }
   ],
   "source": [
    "df_pyspark.show()"
   ]
  },
  {
   "cell_type": "code",
   "execution_count": 45,
   "id": "9d81ea4b",
   "metadata": {},
   "outputs": [],
   "source": [
    "from pyspark.ml.feature import Imputer\n",
    "## mean\n",
    "imputer= Imputer(\n",
    "    inputCols=['age','Experience','Salary'],\n",
    "    outputCols=[\"{}_imputed\".format(c) for c in ['age','Experience','Salary']]\n",
    ").setStrategy(\"mean\")"
   ]
  },
  {
   "cell_type": "code",
   "execution_count": 46,
   "id": "f4ac9ac9",
   "metadata": {},
   "outputs": [
    {
     "name": "stdout",
     "output_type": "stream",
     "text": [
      "+--------+----+----------+------+-----------+------------------+--------------+\n",
      "|    Name| age|Experience|Salary|age_imputed|Experience_imputed|Salary_imputed|\n",
      "+--------+----+----------+------+-----------+------------------+--------------+\n",
      "|   vivek|  25|         3| 50000|         25|                 3|         50000|\n",
      "|   Aadit|  26|         4| 70000|         26|                 4|         70000|\n",
      "|Abhishek|  27|         6| 60000|         27|                 6|         60000|\n",
      "|   Harsh|  24|         2| 25000|         24|                 2|         25000|\n",
      "|   Vikas|  25|         3| 45000|         25|                 3|         45000|\n",
      "|   Fahad|  26|         4| 65000|         26|                 4|         65000|\n",
      "|  Mahesh|null|      null| 40000|         27|                 4|         40000|\n",
      "|    null|  34|        10| 38000|         34|                10|         38000|\n",
      "|    null|  36|      null|  null|         36|                 4|         49125|\n",
      "+--------+----+----------+------+-----------+------------------+--------------+\n",
      "\n"
     ]
    }
   ],
   "source": [
    "imputer.fit(df_pyspark).transform(df_pyspark).show()"
   ]
  },
  {
   "cell_type": "code",
   "execution_count": 47,
   "id": "47866ee6",
   "metadata": {},
   "outputs": [],
   "source": [
    "## median\n",
    "imputer= Imputer(\n",
    "    inputCols=['age','Experience','Salary'],\n",
    "    outputCols=[\"{}_imputed\".format(c) for c in ['age','Experience','Salary']]\n",
    ").setStrategy(\"median\")"
   ]
  },
  {
   "cell_type": "code",
   "execution_count": 48,
   "id": "231b9723",
   "metadata": {},
   "outputs": [
    {
     "name": "stdout",
     "output_type": "stream",
     "text": [
      "+--------+----+----------+------+-----------+------------------+--------------+\n",
      "|    Name| age|Experience|Salary|age_imputed|Experience_imputed|Salary_imputed|\n",
      "+--------+----+----------+------+-----------+------------------+--------------+\n",
      "|   vivek|  25|         3| 50000|         25|                 3|         50000|\n",
      "|   Aadit|  26|         4| 70000|         26|                 4|         70000|\n",
      "|Abhishek|  27|         6| 60000|         27|                 6|         60000|\n",
      "|   Harsh|  24|         2| 25000|         24|                 2|         25000|\n",
      "|   Vikas|  25|         3| 45000|         25|                 3|         45000|\n",
      "|   Fahad|  26|         4| 65000|         26|                 4|         65000|\n",
      "|  Mahesh|null|      null| 40000|         26|                 4|         40000|\n",
      "|    null|  34|        10| 38000|         34|                10|         38000|\n",
      "|    null|  36|      null|  null|         36|                 4|         45000|\n",
      "+--------+----+----------+------+-----------+------------------+--------------+\n",
      "\n"
     ]
    }
   ],
   "source": [
    "imputer.fit(df_pyspark).transform(df_pyspark).show()"
   ]
  },
  {
   "cell_type": "code",
   "execution_count": 52,
   "id": "8695736c",
   "metadata": {},
   "outputs": [],
   "source": [
    "## mode\n",
    "imputer= Imputer(\n",
    "    inputCols=['age','Experience','Salary'],\n",
    "    outputCols=[\"{}_imputed\".format(c) for c in ['age','Experience','Salary']]\n",
    ").setStrategy(\"mode\")"
   ]
  },
  {
   "cell_type": "code",
   "execution_count": 53,
   "id": "96582f65",
   "metadata": {},
   "outputs": [
    {
     "name": "stdout",
     "output_type": "stream",
     "text": [
      "+--------+----+----------+------+-----------+------------------+--------------+\n",
      "|    Name| age|Experience|Salary|age_imputed|Experience_imputed|Salary_imputed|\n",
      "+--------+----+----------+------+-----------+------------------+--------------+\n",
      "|   vivek|  25|         3| 50000|         25|                 3|         50000|\n",
      "|   Aadit|  26|         4| 70000|         26|                 4|         70000|\n",
      "|Abhishek|  27|         6| 60000|         27|                 6|         60000|\n",
      "|   Harsh|  24|         2| 25000|         24|                 2|         25000|\n",
      "|   Vikas|  25|         3| 45000|         25|                 3|         45000|\n",
      "|   Fahad|  26|         4| 65000|         26|                 4|         65000|\n",
      "|  Mahesh|null|      null| 40000|         25|                 3|         40000|\n",
      "|    null|  34|        10| 38000|         34|                10|         38000|\n",
      "|    null|  36|      null|  null|         36|                 3|         25000|\n",
      "+--------+----+----------+------+-----------+------------------+--------------+\n",
      "\n"
     ]
    }
   ],
   "source": [
    "imputer.fit(df_pyspark).transform(df_pyspark).show()"
   ]
  },
  {
   "cell_type": "code",
   "execution_count": null,
   "id": "e1e624d9",
   "metadata": {},
   "outputs": [],
   "source": []
  }
 ],
 "metadata": {
  "kernelspec": {
   "display_name": "Python 3 (ipykernel)",
   "language": "python",
   "name": "python3"
  },
  "language_info": {
   "codemirror_mode": {
    "name": "ipython",
    "version": 3
   },
   "file_extension": ".py",
   "mimetype": "text/x-python",
   "name": "python",
   "nbconvert_exporter": "python",
   "pygments_lexer": "ipython3",
   "version": "3.9.7"
  }
 },
 "nbformat": 4,
 "nbformat_minor": 5
}
